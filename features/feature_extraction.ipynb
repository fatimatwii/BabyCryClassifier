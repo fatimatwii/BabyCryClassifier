{
 "cells": [
  {
   "cell_type": "code",
   "execution_count": 4,
   "metadata": {},
   "outputs": [],
   "source": [
    "import librosa\n",
    "import librosa.display\n",
    "import IPython.display as ipd\n",
    "import os\n",
    "import numpy as np\n",
    "import csv\n",
    "import pandas as pd\n",
    "\n",
    "directory=\"csv\""
   ]
  },
  {
   "cell_type": "code",
   "execution_count": 5,
   "metadata": {},
   "outputs": [],
   "source": [
    "def feature_Extraction(file_path):\n",
    "    x, sample_rate = librosa.load(file_path, res_type='kaiser_fast')\n",
    "    mfcc = np.mean(librosa.feature.mfcc(y=x, sr=sample_rate, n_mfcc=100).T, axis=0)\n",
    "\n",
    "    return mfcc"
   ]
  },
  {
   "cell_type": "code",
   "execution_count": 8,
   "metadata": {},
   "outputs": [],
   "source": [
    "csv_dataset1 = \"csv/dataset.csv\"\n",
    "\n",
    "with open(csv_dataset1, 'r', newline='') as csvfile :\n",
    "    csv_reader=csv.reader(csvfile)\n",
    "    next(csv_reader)\n",
    "    csv_filename =directory+\"/features.csv\"\n",
    "    with open(csv_filename, 'w', newline='') as csvfile1:\n",
    "        csv_writer = csv.writer(csvfile1)\n",
    "        csv_writer.writerow([f'Feature_{i+1}' for i in range(100)])\n",
    "        for line in csv_reader:\n",
    "            features = feature_Extraction(line[0])\n",
    "            row = features.tolist()\n",
    "            csv_writer.writerow(row)"
   ]
  },
  {
   "cell_type": "markdown",
   "metadata": {},
   "source": [
    "normalize data"
   ]
  },
  {
   "cell_type": "code",
   "execution_count": 14,
   "metadata": {},
   "outputs": [],
   "source": [
    "\n",
    "# Initialize arrays to store min and max values for each feature column\n",
    "min_values = []\n",
    "max_values = []\n",
    "\n",
    "csv1=directory+'/min_max_values.csv'\n",
    "# Read the CSV file\n",
    "with open(csv1, 'r', newline='') as csvfile :\n",
    "    csv_reader=csv.reader(csvfile)\n",
    "    next(csv_reader)\n",
    "    for line in csv_reader:\n",
    "        min_val = float(line[1])  # Convert to float\n",
    "        max_val = float(line[2])  # Convert to float\n",
    "        min_values.append(min_val)\n",
    "        max_values.append(max_val)   \n",
    "\n",
    "# Read the CSV file\n",
    "df = pd.read_csv(directory+\"/features.csv\")\n",
    "\n",
    "# Extract the feature columns (excluding the 'type' column)\n",
    "feature_columns = df.columns\n",
    "\n",
    "# Normalize the feature columns between 0 and 1 using the min and max values\n",
    "for i, col in enumerate(feature_columns):\n",
    "    df[col] = (df[col] - min_values[i]) / (max_values[i] - min_values[i])\n",
    "# Save the normalized data back to a CSV file\n",
    "df.to_csv(directory+\"/normalized_data.csv\", index=False)\n"
   ]
  }
 ],
 "metadata": {
  "kernelspec": {
   "display_name": "Python 3",
   "language": "python",
   "name": "python3"
  },
  "language_info": {
   "codemirror_mode": {
    "name": "ipython",
    "version": 3
   },
   "file_extension": ".py",
   "mimetype": "text/x-python",
   "name": "python",
   "nbconvert_exporter": "python",
   "pygments_lexer": "ipython3",
   "version": "3.12.2"
  }
 },
 "nbformat": 4,
 "nbformat_minor": 2
}
