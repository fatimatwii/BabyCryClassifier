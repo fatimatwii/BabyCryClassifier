{
 "cells": [
  {
   "cell_type": "code",
   "execution_count": 1,
   "metadata": {},
   "outputs": [],
   "source": [
    "import pandas as pd\n",
    "import tensorflow as tf\n",
    "import numpy as np"
   ]
  },
  {
   "cell_type": "code",
   "execution_count": 2,
   "metadata": {},
   "outputs": [],
   "source": [
    "def decode(line):\n",
    "     match line:\n",
    "                case 1:\n",
    "                    return 'belly_pain'\n",
    "                    \n",
    "                case 2:\n",
    "                    return 'burping'\n",
    "                    \n",
    "                case 3:\n",
    "                    return 'discomfort'\n",
    "                    \n",
    "                case 4:\n",
    "                    return 'hungry'\n",
    "                    \n",
    "                case 5:\n",
    "                    return 'tired'  "
   ]
  },
  {
   "cell_type": "code",
   "execution_count": 3,
   "metadata": {},
   "outputs": [
    {
     "name": "stderr",
     "output_type": "stream",
     "text": [
      "WARNING:absl:Compiled the loaded model, but the compiled metrics have yet to be built. `model.compile_metrics` will be empty until you train or evaluate the model.\n"
     ]
    }
   ],
   "source": [
    "loaded_model = tf.keras.models.load_model('my_model.h5')\n"
   ]
  },
  {
   "cell_type": "code",
   "execution_count": 7,
   "metadata": {},
   "outputs": [
    {
     "name": "stdout",
     "output_type": "stream",
     "text": [
      "\u001b[1m1/1\u001b[0m \u001b[32m━━━━━━━━━━━━━━━━━━━━\u001b[0m\u001b[37m\u001b[0m \u001b[1m0s\u001b[0m 177ms/step\n",
      "hungry\n"
     ]
    }
   ],
   "source": [
    "# Assuming you have new_data that is preprocessed and normalized between 0 and 1\n",
    "new_data = pd.read_csv(\"csv/normalized_data.csv\",skiprows=1)\n",
    "data_array = new_data.values\n",
    "# Use the loaded model to make predictions on the new data\n",
    "predictions = loaded_model.predict(data_array)\n",
    "predicted_labels = np.argmax(predictions, axis=1)+1\n",
    "x=decode(predicted_labels)\n",
    "print(x)\n",
    "# Process the predictions as needed (e.g., convert to labels if using a classification model)"
   ]
  }
 ],
 "metadata": {
  "kernelspec": {
   "display_name": "Python 3",
   "language": "python",
   "name": "python3"
  },
  "language_info": {
   "codemirror_mode": {
    "name": "ipython",
    "version": 3
   },
   "file_extension": ".py",
   "mimetype": "text/x-python",
   "name": "python",
   "nbconvert_exporter": "python",
   "pygments_lexer": "ipython3",
   "version": "3.12.2"
  }
 },
 "nbformat": 4,
 "nbformat_minor": 2
}
