{
 "cells": [
  {
   "cell_type": "code",
   "execution_count": null,
   "metadata": {},
   "outputs": [],
   "source": [
    "import pandas as pd\n",
    "import tensorflow as tf\n",
    "import numpy as np"
   ]
  },
  {
   "cell_type": "code",
   "execution_count": null,
   "metadata": {},
   "outputs": [],
   "source": [
    "def decode(line):\n",
    "     match line:\n",
    "                case 1:\n",
    "                    return 'belly_pain'\n",
    "                    \n",
    "                case 2:\n",
    "                    return 'burping'\n",
    "                    \n",
    "                case 3:\n",
    "                    return 'discomfort'\n",
    "                    \n",
    "                case 4:\n",
    "                    return 'hungry'\n",
    "                    \n",
    "                case 5:\n",
    "                    return 'tired'  "
   ]
  },
  {
   "cell_type": "code",
   "execution_count": null,
   "metadata": {},
   "outputs": [],
   "source": [
    "loaded_model = tf.keras.models.load_model('my_model.h5')\n"
   ]
  },
  {
   "cell_type": "code",
   "execution_count": null,
   "metadata": {},
   "outputs": [],
   "source": [
    "# Assuming you have new_data that is preprocessed and normalized between 0 and 1\n",
    "new_data = pd.read_csv(\"csv/normalized_data1.csv\",skiprows=1)\n",
    "data_array = new_data.values\n",
    "# Use the loaded model to make predictions on the new data\n",
    "predictions = loaded_model.predict(data_array)\n",
    "predicted_labels = np.argmax(predictions, axis=1)+1\n",
    "x=decode(predicted_labels)\n",
    "print(x)\n",
    "# Process the predictions as needed (e.g., convert to labels if using a classification model)"
   ]
  }
 ],
 "metadata": {
  "language_info": {
   "name": "python"
  }
 },
 "nbformat": 4,
 "nbformat_minor": 2
}
